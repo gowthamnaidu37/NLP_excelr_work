{
 "cells": [
  {
   "cell_type": "code",
   "execution_count": 1,
   "id": "7a4aea75-9f9f-4f04-a2d2-55fc00f69855",
   "metadata": {},
   "outputs": [
    {
     "name": "stdout",
     "output_type": "stream",
     "text": [
      "Requirement already satisfied: boto3 in c:\\users\\bknai\\anaconda3\\lib\\site-packages (1.37.16)\n",
      "Requirement already satisfied: botocore<1.38.0,>=1.37.16 in c:\\users\\bknai\\anaconda3\\lib\\site-packages (from boto3) (1.37.16)\n",
      "Requirement already satisfied: jmespath<2.0.0,>=0.7.1 in c:\\users\\bknai\\anaconda3\\lib\\site-packages (from boto3) (1.0.1)\n",
      "Requirement already satisfied: s3transfer<0.12.0,>=0.11.0 in c:\\users\\bknai\\anaconda3\\lib\\site-packages (from boto3) (0.11.4)\n",
      "Requirement already satisfied: python-dateutil<3.0.0,>=2.1 in c:\\users\\bknai\\anaconda3\\lib\\site-packages (from botocore<1.38.0,>=1.37.16->boto3) (2.9.0.post0)\n",
      "Requirement already satisfied: urllib3!=2.2.0,<3,>=1.25.4 in c:\\users\\bknai\\anaconda3\\lib\\site-packages (from botocore<1.38.0,>=1.37.16->boto3) (2.2.3)\n",
      "Requirement already satisfied: six>=1.5 in c:\\users\\bknai\\anaconda3\\lib\\site-packages (from python-dateutil<3.0.0,>=2.1->botocore<1.38.0,>=1.37.16->boto3) (1.16.0)\n"
     ]
    }
   ],
   "source": [
    "!pip install boto3"
   ]
  },
  {
   "cell_type": "code",
   "execution_count": 3,
   "id": "10d1f11d-71be-4474-adb5-43d4b168a3f2",
   "metadata": {},
   "outputs": [],
   "source": [
    "import boto3\n",
    "s3 = boto3.client(\"s3\")"
   ]
  },
  {
   "cell_type": "markdown",
   "id": "040ee5a4-dcc2-4a98-8670-7530a8f34f81",
   "metadata": {},
   "source": [
    " # create an s3 bucket"
   ]
  },
  {
   "cell_type": "code",
   "execution_count": null,
   "id": "549abbd1-85dc-4e6e-994e-f2412f605bfd",
   "metadata": {},
   "outputs": [],
   "source": [
    "bucket_name = \"mynlpmru6\"\n",
    "s3.create_bucket(\n",
    "    Bucket = bucket_name,\n",
    "    CreateBucketConfiguration={\"LocationConstraint\": \"eu-north-1\"}\n",
    ")\n",
    "print(f\"Bucket '{bucket_name}' created sucessfully\")"
   ]
  },
  {
   "cell_type": "code",
   "execution_count": null,
   "id": "aaadf50a-6fd2-4a2d-84c6-e0bfaa1ae0b8",
   "metadata": {},
   "outputs": [],
   "source": [
    "response = s3.list_buckets()\n",
    "print(\"existing buckets:\")\n",
    "for bucket in response[\"Buckets\"]:\n",
    "    print(f\"- {bucket['Name']}\")"
   ]
  },
  {
   "cell_type": "markdown",
   "id": "2e1ee5fe-bbc0-4988-b19c-60d7a12c23fa",
   "metadata": {},
   "source": [
    "# Upload file to s3"
   ]
  },
  {
   "cell_type": "code",
   "execution_count": null,
   "id": "428f0436-3f5a-4a9f-ad0f-2abcf3ce39ba",
   "metadata": {},
   "outputs": [],
   "source": [
    "s3.upload_file(\"test.txt\",\"mynlpmru\",\"data/testfile1.txt\")\n",
    "print(\"Upload complete\")"
   ]
  },
  {
   "cell_type": "markdown",
   "id": "a26f06dd-75f5-4ce2-82e7-22ce9d0374f4",
   "metadata": {},
   "source": [
    "# Download file from s3"
   ]
  },
  {
   "cell_type": "code",
   "execution_count": null,
   "id": "8d36a567-c800-413a-8525-86eee9c28c63",
   "metadata": {},
   "outputs": [],
   "source": [
    "s3.download_file(\"mynlpmru\",\"data/testfile1.txt\",\"downloaded_test3.txt\")\n",
    "print(\"Download sucessfully\")"
   ]
  },
  {
   "cell_type": "markdown",
   "id": "ee03eec6-560b-44c8-bae4-367cb06b7ca3",
   "metadata": {},
   "source": [
    "# List Files in a bucket"
   ]
  },
  {
   "cell_type": "code",
   "execution_count": null,
   "id": "63c3db3e-af97-43a8-9599-409ebd94502a",
   "metadata": {},
   "outputs": [],
   "source": [
    "response = s3.list_objects_v2(Bucket=\"mynlpbucket2003\")\n",
    "print(\"Files in bucket:\")\n",
    "if \"Contents\" in response:\n",
    "    for obj in response[\"Contents\"]:\n",
    "        print(f\"- {obj['Key']} (Size: {obj['Size']} bytes)\")\n",
    "else:\n",
    "    print(\"Bucket is empty.\")"
   ]
  },
  {
   "cell_type": "markdown",
   "id": "87b999c5-4050-4972-a171-820091c4dbdd",
   "metadata": {},
   "source": [
    "# Delete a file from s3"
   ]
  },
  {
   "cell_type": "code",
   "execution_count": null,
   "id": "8f60892c-fbd3-49d9-a399-b9ae4f720895",
   "metadata": {},
   "outputs": [],
   "source": [
    "s3.delete_object(Bucket=\"mynlpmru\", Key=\"data/testfile1.txt\")\n",
    "print(\"File deleted successfully!\")"
   ]
  },
  {
   "cell_type": "markdown",
   "id": "f314f7b5-3870-41c0-926b-c074679e4cb6",
   "metadata": {},
   "source": [
    "# Enable versioning on an s3 bucket"
   ]
  },
  {
   "cell_type": "code",
   "execution_count": null,
   "id": "13fc3af5-3803-4688-b39f-39a1bcef7768",
   "metadata": {},
   "outputs": [],
   "source": [
    "s3.put_bucket_versioning(\n",
    "    Bucket=\"mynlpmru\",\n",
    "    VersioningConfiguration={\"Status\": \"Enabled\"}\n",
    ")\n",
    "print(\"Bucket versioning enabled.\")"
   ]
  },
  {
   "cell_type": "markdown",
   "id": "6d2052aa-d3a7-4fd1-af66-b3f81163d4b9",
   "metadata": {},
   "source": [
    "# Copy an object within s3"
   ]
  },
  {
   "cell_type": "code",
   "execution_count": null,
   "id": "ba0c25b5-f54d-4248-b950-50b20c3c3590",
   "metadata": {},
   "outputs": [],
   "source": [
    "copy_source = {\"Bucket\": \"mynlpmru\", \"Key\": \"data/testfile.txt\"}\n",
    "s3.copy_object(CopySource=copy_source, Bucket=\"mynlpmru\", Key=\"data/copied_testfile3.txt\")\n",
    "print(\"File copied successfully.\")"
   ]
  }
 ],
 "metadata": {
  "kernelspec": {
   "display_name": "Python 3 (ipykernel)",
   "language": "python",
   "name": "python3"
  },
  "language_info": {
   "codemirror_mode": {
    "name": "ipython",
    "version": 3
   },
   "file_extension": ".py",
   "mimetype": "text/x-python",
   "name": "python",
   "nbconvert_exporter": "python",
   "pygments_lexer": "ipython3",
   "version": "3.12.7"
  }
 },
 "nbformat": 4,
 "nbformat_minor": 5
}
