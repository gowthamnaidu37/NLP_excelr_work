{
 "cells": [
  {
   "cell_type": "code",
   "execution_count": 5,
   "id": "32575910-a3a8-492c-9ea9-3e9d4e2889db",
   "metadata": {},
   "outputs": [],
   "source": [
    "Text = \"I am learning nlp\""
   ]
  },
  {
   "cell_type": "code",
   "execution_count": 7,
   "id": "7bae94dd-6317-4099-97d9-6becab6ef563",
   "metadata": {},
   "outputs": [
    {
     "data": {
      "text/html": [
       "<div>\n",
       "<style scoped>\n",
       "    .dataframe tbody tr th:only-of-type {\n",
       "        vertical-align: middle;\n",
       "    }\n",
       "\n",
       "    .dataframe tbody tr th {\n",
       "        vertical-align: top;\n",
       "    }\n",
       "\n",
       "    .dataframe thead th {\n",
       "        text-align: right;\n",
       "    }\n",
       "</style>\n",
       "<table border=\"1\" class=\"dataframe\">\n",
       "  <thead>\n",
       "    <tr style=\"text-align: right;\">\n",
       "      <th></th>\n",
       "      <th>I</th>\n",
       "      <th>am</th>\n",
       "      <th>learning</th>\n",
       "      <th>nlp</th>\n",
       "    </tr>\n",
       "  </thead>\n",
       "  <tbody>\n",
       "    <tr>\n",
       "      <th>0</th>\n",
       "      <td>True</td>\n",
       "      <td>False</td>\n",
       "      <td>False</td>\n",
       "      <td>False</td>\n",
       "    </tr>\n",
       "    <tr>\n",
       "      <th>1</th>\n",
       "      <td>False</td>\n",
       "      <td>True</td>\n",
       "      <td>False</td>\n",
       "      <td>False</td>\n",
       "    </tr>\n",
       "    <tr>\n",
       "      <th>2</th>\n",
       "      <td>False</td>\n",
       "      <td>False</td>\n",
       "      <td>True</td>\n",
       "      <td>False</td>\n",
       "    </tr>\n",
       "    <tr>\n",
       "      <th>3</th>\n",
       "      <td>False</td>\n",
       "      <td>False</td>\n",
       "      <td>False</td>\n",
       "      <td>True</td>\n",
       "    </tr>\n",
       "  </tbody>\n",
       "</table>\n",
       "</div>"
      ],
      "text/plain": [
       "       I     am  learning    nlp\n",
       "0   True  False     False  False\n",
       "1  False   True     False  False\n",
       "2  False  False      True  False\n",
       "3  False  False     False   True"
      ]
     },
     "execution_count": 7,
     "metadata": {},
     "output_type": "execute_result"
    }
   ],
   "source": [
    "import pandas as pd\n",
    "pd.get_dummies(Text.split())"
   ]
  },
  {
   "cell_type": "code",
   "execution_count": 9,
   "id": "c717cecd-d0f7-4001-a2e4-50dcf6ae5b2e",
   "metadata": {},
   "outputs": [
    {
     "name": "stdout",
     "output_type": "stream",
     "text": [
      "{'love': 4, 'nlp': 5, 'and': 1, 'will': 6, 'learn': 3, 'in': 2, '2month': 0}\n",
      "[[1 1 1 1 1 2 1]]\n"
     ]
    }
   ],
   "source": [
    "text = [\"i love NLP and i will learn NLP in 2month\"] \n",
    "\n",
    "from sklearn.feature_extraction.text import CountVectorizer \n",
    "vectorizer = CountVectorizer() \n",
    "vectorizer.fit(text) \n",
    "vector = vectorizer.transform(text) \n",
    "\n",
    "print(vectorizer.vocabulary_) \n",
    "print(vector.toarray())"
   ]
  },
  {
   "cell_type": "code",
   "execution_count": 11,
   "id": "3f8d139b-9b0f-47ab-8af7-64c065d2e376",
   "metadata": {},
   "outputs": [
    {
     "name": "stdout",
     "output_type": "stream",
     "text": [
      "  (0, 0)\t1\n",
      "  (0, 1)\t1\n",
      "  (0, 2)\t1\n",
      "  (0, 3)\t1\n",
      "  (0, 4)\t1\n",
      "  (0, 5)\t2\n",
      "  (0, 6)\t1\n"
     ]
    }
   ],
   "source": [
    "print(vector)"
   ]
  },
  {
   "cell_type": "code",
   "execution_count": 17,
   "id": "3cbe70b3-9569-48e4-a4d7-e728a857b04f",
   "metadata": {},
   "outputs": [
    {
     "data": {
      "text/html": [
       "<div>\n",
       "<style scoped>\n",
       "    .dataframe tbody tr th:only-of-type {\n",
       "        vertical-align: middle;\n",
       "    }\n",
       "\n",
       "    .dataframe tbody tr th {\n",
       "        vertical-align: top;\n",
       "    }\n",
       "\n",
       "    .dataframe thead th {\n",
       "        text-align: right;\n",
       "    }\n",
       "</style>\n",
       "<table border=\"1\" class=\"dataframe\">\n",
       "  <thead>\n",
       "    <tr style=\"text-align: right;\">\n",
       "      <th></th>\n",
       "      <th>0</th>\n",
       "    </tr>\n",
       "  </thead>\n",
       "  <tbody>\n",
       "    <tr>\n",
       "      <th>0</th>\n",
       "      <td>2month</td>\n",
       "    </tr>\n",
       "    <tr>\n",
       "      <th>1</th>\n",
       "      <td>and</td>\n",
       "    </tr>\n",
       "    <tr>\n",
       "      <th>2</th>\n",
       "      <td>in</td>\n",
       "    </tr>\n",
       "    <tr>\n",
       "      <th>3</th>\n",
       "      <td>learn</td>\n",
       "    </tr>\n",
       "    <tr>\n",
       "      <th>4</th>\n",
       "      <td>love</td>\n",
       "    </tr>\n",
       "    <tr>\n",
       "      <th>5</th>\n",
       "      <td>nlp</td>\n",
       "    </tr>\n",
       "    <tr>\n",
       "      <th>6</th>\n",
       "      <td>will</td>\n",
       "    </tr>\n",
       "  </tbody>\n",
       "</table>\n",
       "</div>"
      ],
      "text/plain": [
       "        0\n",
       "0  2month\n",
       "1     and\n",
       "2      in\n",
       "3   learn\n",
       "4    love\n",
       "5     nlp\n",
       "6    will"
      ]
     },
     "execution_count": 17,
     "metadata": {},
     "output_type": "execute_result"
    }
   ],
   "source": [
    "df =pd.DataFrame(data=vectorizer.get_feature_names_out())\n",
    "df"
   ]
  },
  {
   "cell_type": "code",
   "execution_count": 37,
   "id": "99291f47-891e-468e-ba9c-161a5da72f4e",
   "metadata": {},
   "outputs": [
    {
     "data": {
      "text/plain": [
       "[WordList(['i']),\n",
       " WordList(['love']),\n",
       " WordList(['NLP']),\n",
       " WordList(['i']),\n",
       " WordList(['will']),\n",
       " WordList(['learn']),\n",
       " WordList(['NLP']),\n",
       " WordList(['in']),\n",
       " WordList(['2']),\n",
       " WordList(['months'])]"
      ]
     },
     "execution_count": 37,
     "metadata": {},
     "output_type": "execute_result"
    }
   ],
   "source": [
    "from textblob import TextBlob \n",
    "#For unigram : Use n = 1 \n",
    "TextBlob(text).ngrams(1) \n",
    "#For Bigram: For bigrams, use n = 2 "
   ]
  },
  {
   "cell_type": "code",
   "execution_count": 35,
   "id": "65ff8393-5abf-47a9-9af0-3b1ed418b115",
   "metadata": {},
   "outputs": [
    {
     "data": {
      "text/plain": [
       "[WordList(['i', 'love']),\n",
       " WordList(['love', 'NLP']),\n",
       " WordList(['NLP', 'i']),\n",
       " WordList(['i', 'will']),\n",
       " WordList(['will', 'learn']),\n",
       " WordList(['learn', 'NLP']),\n",
       " WordList(['NLP', 'in']),\n",
       " WordList(['in', '2']),\n",
       " WordList(['2', 'months'])]"
      ]
     },
     "execution_count": 35,
     "metadata": {},
     "output_type": "execute_result"
    }
   ],
   "source": [
    "TextBlob(text).ngrams(2)\n"
   ]
  },
  {
   "cell_type": "code",
   "execution_count": 23,
   "id": "18273aac-44bc-4b40-9291-b3af6636e8ec",
   "metadata": {},
   "outputs": [
    {
     "name": "stdout",
     "output_type": "stream",
     "text": [
      "Requirement already satisfied: textblob in c:\\users\\bknai\\anaconda3\\lib\\site-packages (0.19.0)\n",
      "Requirement already satisfied: nltk>=3.9 in c:\\users\\bknai\\anaconda3\\lib\\site-packages (from textblob) (3.9.1)\n",
      "Requirement already satisfied: click in c:\\users\\bknai\\anaconda3\\lib\\site-packages (from nltk>=3.9->textblob) (8.1.7)\n",
      "Requirement already satisfied: joblib in c:\\users\\bknai\\anaconda3\\lib\\site-packages (from nltk>=3.9->textblob) (1.4.2)\n",
      "Requirement already satisfied: regex>=2021.8.3 in c:\\users\\bknai\\anaconda3\\lib\\site-packages (from nltk>=3.9->textblob) (2024.9.11)\n",
      "Requirement already satisfied: tqdm in c:\\users\\bknai\\anaconda3\\lib\\site-packages (from nltk>=3.9->textblob) (4.66.5)\n",
      "Requirement already satisfied: colorama in c:\\users\\bknai\\anaconda3\\lib\\site-packages (from click->nltk>=3.9->textblob) (0.4.6)\n"
     ]
    }
   ],
   "source": [
    "!pip install textblob"
   ]
  },
  {
   "cell_type": "code",
   "execution_count": 31,
   "id": "ea1f8942-25e4-4c05-b5ab-3b93d4d15517",
   "metadata": {},
   "outputs": [
    {
     "name": "stdout",
     "output_type": "stream",
     "text": [
      "[WordList(['i']), WordList(['love']), WordList(['NLP']), WordList(['and']), WordList(['i']), WordList(['will']), WordList(['learn']), WordList(['NLP']), WordList(['in']), WordList(['2month'])]\n"
     ]
    }
   ],
   "source": [
    "from textblob import TextBlob\n",
    "\n",
    "text = [\"i love NLP and i will learn NLP in 2month\"]  # List with one string\n",
    "text = text[0]  # Extract the string\n",
    "\n",
    "blob = TextBlob(text)\n",
    "ngrams = blob.ngrams(1)  # Unigrams\n",
    "\n",
    "print(ngrams)\n"
   ]
  },
  {
   "cell_type": "code",
   "execution_count": 33,
   "id": "437be9f7-78ad-41d6-8309-4351ac30f416",
   "metadata": {},
   "outputs": [
    {
     "name": "stdout",
     "output_type": "stream",
     "text": [
      "[WordList(['i']), WordList(['love']), WordList(['NLP']), WordList(['i']), WordList(['will']), WordList(['learn']), WordList(['NLP']), WordList(['in']), WordList(['2']), WordList(['months'])]\n"
     ]
    }
   ],
   "source": [
    "text = [\"i love NLP.\", \"i will learn NLP in 2 months.\"]\n",
    "text = \" \".join(text)  # Join list elements into a single string\n",
    "\n",
    "blob = TextBlob(text)\n",
    "ngrams = blob.ngrams(1)\n",
    "\n",
    "print(ngrams)\n"
   ]
  },
  {
   "cell_type": "code",
   "execution_count": null,
   "id": "6e76af0e-bba1-4197-8b93-438688805269",
   "metadata": {},
   "outputs": [],
   "source": []
  }
 ],
 "metadata": {
  "kernelspec": {
   "display_name": "Python 3 (ipykernel)",
   "language": "python",
   "name": "python3"
  },
  "language_info": {
   "codemirror_mode": {
    "name": "ipython",
    "version": 3
   },
   "file_extension": ".py",
   "mimetype": "text/x-python",
   "name": "python",
   "nbconvert_exporter": "python",
   "pygments_lexer": "ipython3",
   "version": "3.12.7"
  }
 },
 "nbformat": 4,
 "nbformat_minor": 5
}
