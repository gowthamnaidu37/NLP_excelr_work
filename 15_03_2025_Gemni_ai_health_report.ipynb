{
  "nbformat": 4,
  "nbformat_minor": 0,
  "metadata": {
    "colab": {
      "provenance": [],
      "authorship_tag": "ABX9TyPTunXK3wi9qgxOS3Iw2NJY",
      "include_colab_link": true
    },
    "kernelspec": {
      "name": "python3",
      "display_name": "Python 3"
    },
    "language_info": {
      "name": "python"
    }
  },
  "cells": [
    {
      "cell_type": "markdown",
      "metadata": {
        "id": "view-in-github",
        "colab_type": "text"
      },
      "source": [
        "<a href=\"https://colab.research.google.com/github/gowthamnaidu37/NLP_excelr_work/blob/main/15_03_2025_Gemni_ai_health_report.ipynb\" target=\"_parent\"><img src=\"https://colab.research.google.com/assets/colab-badge.svg\" alt=\"Open In Colab\"/></a>"
      ]
    },
    {
      "cell_type": "code",
      "execution_count": 1,
      "metadata": {
        "colab": {
          "base_uri": "https://localhost:8080/"
        },
        "id": "HvM1VCSIgTZi",
        "outputId": "8a235027-e779-4bc9-befa-9e45fbe2ea8a"
      },
      "outputs": [
        {
          "output_type": "stream",
          "name": "stdout",
          "text": [
            "Collecting PyPDF2\n",
            "  Downloading pypdf2-3.0.1-py3-none-any.whl.metadata (6.8 kB)\n",
            "Downloading pypdf2-3.0.1-py3-none-any.whl (232 kB)\n",
            "\u001b[2K   \u001b[90m━━━━━━━━━━━━━━━━━━━━━━━━━━━━━━━━━━━━━━━━\u001b[0m \u001b[32m232.6/232.6 kB\u001b[0m \u001b[31m4.5 MB/s\u001b[0m eta \u001b[36m0:00:00\u001b[0m\n",
            "\u001b[?25hInstalling collected packages: PyPDF2\n",
            "Successfully installed PyPDF2-3.0.1\n"
          ]
        }
      ],
      "source": [
        "pip install PyPDF2"
      ]
    },
    {
      "cell_type": "code",
      "source": [
        "import google.generativeai as genai\n",
        "from google.colab import userdata\n",
        "GOOGLE_API_KEY=userdata.get('GOOGLE_API_KEY')\n",
        "genai.configure(api_key=GOOGLE_API_KEY)"
      ],
      "metadata": {
        "id": "UAFDlomwhgBd"
      },
      "execution_count": 4,
      "outputs": []
    },
    {
      "cell_type": "code",
      "source": [
        "import PyPDF2\n",
        "def extract_text_from_pdf(pdf_path):\n",
        "    text = \"\"\n",
        "    with open(pdf_path, 'rb') as file:\n",
        "        reader = PyPDF2.PdfReader(file)\n",
        "        for page in reader.pages:\n",
        "          text += page.extract_text()\n",
        "    return text"
      ],
      "metadata": {
        "id": "t5PBxtrhie0q"
      },
      "execution_count": 5,
      "outputs": []
    },
    {
      "cell_type": "code",
      "source": [
        "def extract_health_insights(text):\n",
        "  model = genai.GenerativeModel(\"gemini-1.5-flash\")\n",
        "  prompt=f\"Extract key insights from the following health report:\\n\\n{text}\"\n",
        "  response=model.generate_content(prompt)\n",
        "  return response.text\n",
        "pdf_file=\"health_report.pdf\"\n",
        "extracted_text=extract_text_from_pdf(pdf_file)\n",
        "health_insights=extract_health_insights(extracted_text)\n",
        "print(\"key insights\\n\",health_insights)"
      ],
      "metadata": {
        "colab": {
          "base_uri": "https://localhost:8080/",
          "height": 471
        },
        "id": "F0ChH-N1i41h",
        "outputId": "312b8d53-26a3-49b1-b4de-f483bf9d9378"
      },
      "execution_count": 7,
      "outputs": [
        {
          "output_type": "stream",
          "name": "stdout",
          "text": [
            "key insights\n",
            " Mr. Kishan Goud's (MR Number: MR2100003157) health report from February 1st, 2021, reveals the following key insights:\n",
            "\n",
            "**Infectious Diseases:**\n",
            "\n",
            "* **Widal Test:** Elevated titers for *Salmonella Typhi* \"O\" (1:160) and \"H\" (1:80) suggest a possible past or present *Salmonella Typhi* infection.  The reference range is 1:20, so these values are significantly higher.  *Salmonella Paratyphi* \"A\" and \"B\" titers were within the normal range (1:20).\n",
            "* **Dengue Serology:** Negative results for Dengue NS1 antigen, IgG, and IgM antibodies indicate no current or recent dengue fever infection.\n",
            "* **Malaria:** Negative rapid malaria tests for *Plasmodium falciparum* and *Plasmodium vivax* rule out malaria.\n",
            "\n",
            "**Hematology:**\n",
            "\n",
            "* **Complete Blood Picture (CBC):**  Most blood parameters are within normal ranges.  Slightly elevated ESR (26 mm/hr in the first hour, 52 mm/hr in the second hour) may indicate inflammation.  Hemoglobin, RBC, WBC, and platelet counts are within normal limits.\n",
            "* **HbA1c:** 5.4%, indicating good blood sugar control and no diabetes.\n",
            "\n",
            "**Biochemistry:**\n",
            "\n",
            "* **Liver Function Test (LFT):** All liver function parameters (bilirubin, alkaline phosphatase, SGOT, SGPT, total protein, albumin, globulin, A/G ratio) are within normal ranges.\n",
            "* **Serum Electrolytes:** Sodium (122 mmol/l) is slightly low (reference range 135-146 mmol/l). Potassium and chloride levels are within normal ranges.\n",
            "* **Serum Creatinine:**  Within the normal range (0.8 mg/dl; reference range 0.6 - 1.25 mg/dl), indicating normal kidney function.\n",
            "* **Random Blood Glucose:**  Not provided in the excerpt, though the report indicates there is a result.\n",
            "\n",
            "**Overall:**\n",
            "\n",
            "The most significant finding is the elevated Widal test titers for *Salmonella Typhi*, suggesting a possible typhoid fever infection (either current or past).  The slightly low sodium level and elevated ESR warrant further investigation.  The other tests largely show normal results.  A physician should interpret these findings in the context of Mr. Kishan Goud's clinical presentation and history to reach a definitive diagnosis and treatment plan.\n",
            "\n"
          ]
        }
      ]
    },
    {
      "cell_type": "code",
      "source": [
        "def summarize_health_report(text):\n",
        "  model = genai.GenerativeModel(\"gemini-1.5-flash\")\n",
        "  prompt = f\"summarize the following health report in a concise manner:\\n\\n{text}\"\n",
        "  response = model.generate_content(prompt)\n",
        "  return response.text\n",
        "summarized_report=summarize_health_report(extracted_text)\n",
        "print(\"summarized report\\n\",summarized_report)"
      ],
      "metadata": {
        "colab": {
          "base_uri": "https://localhost:8080/",
          "height": 89
        },
        "id": "pdtQ1EYhk7gv",
        "outputId": "20423b96-6e33-4a41-ee0a-c4dd9c3c31a9"
      },
      "execution_count": 8,
      "outputs": [
        {
          "output_type": "stream",
          "name": "stdout",
          "text": [
            "summarized report\n",
            " Mr. Kishan Goud's (MR2100003157) blood tests on 01/02/2021 showed:  elevated ESR (26/52 mm/hr),  Widal test results suggesting possible past exposure to *Salmonella Typhi* (1:160 O, 1:80 H), negative dengue serology, negative malaria test, and otherwise normal complete blood count, HbA1c (5.4%), creatinine (0.8 mg/dl), blood glucose, and liver function tests.  Serum sodium (122 mmol/l) and chloride (97 mmol/l) were slightly low.\n",
            "\n"
          ]
        }
      ]
    },
    {
      "cell_type": "code",
      "source": [
        "def detect_abnormalities(text):\n",
        "  model = genai.GenerativeModel(\"gemini-1.5-flash\")\n",
        "  prompt = f\"Analyze the lab test results in the following health report and highlight any abnormal values:\\n\\n{text}\"\n",
        "  response = model.generate_content(prompt)\n",
        "  return response.text\n",
        "abnormalities=detect_abnormalities(extracted_text)\n",
        "print(\"Potential abnormalities\\n\",abnormalities)"
      ],
      "metadata": {
        "colab": {
          "base_uri": "https://localhost:8080/",
          "height": 384
        },
        "id": "24O_Az8gnz4D",
        "outputId": "a0929206-b62c-4805-bdbc-0a5dbf0e932d"
      },
      "execution_count": 9,
      "outputs": [
        {
          "output_type": "stream",
          "name": "stdout",
          "text": [
            "Potential abnormalities\n",
            " Based on the provided lab results, the following values are outside the reference ranges, indicating potential abnormalities:\n",
            "\n",
            "* **Widal Test:**  S. Typhi \"O\" (1:160) and S. Typhi \"H\" (1:80) are significantly higher than the reference range (1:20).  This suggests a possible past or present infection with *Salmonella Typhi*, the bacteria that causes typhoid fever.  Further investigation is warranted.\n",
            "\n",
            "* **ESR (Erythrocyte Sedimentation Rate):** Both the 1st hour (26 mm/hr) and 2nd hour (52 mm/hr) values are elevated above the reference range (0-8 mm/hr for the first hour).  Elevated ESR indicates inflammation in the body, but it's a non-specific marker and could be caused by various conditions.\n",
            "\n",
            "* **Serum Sodium:** 122 mmol/l is below the reference range of 135-146 mmol/l.  Hyponatremia (low sodium) can have various causes and requires further evaluation.\n",
            "\n",
            "* **Serum Chloride:** 97 mmol/l is below the reference range of 98-107 mmol/l.  Hypochloremia (low chloride) often occurs in conjunction with hyponatremia and warrants investigation.\n",
            "\n",
            "\n",
            "**Values within or near the lower/upper limits of the reference range that warrant monitoring:**\n",
            "\n",
            "* **RBC (Red Blood Cells):** 4.3 mill/cumm is at the lower end of the reference range (4.5-5.5 mill/cumm).  While not critically low, it should be monitored.\n",
            "\n",
            "* **Platelet Count:** 2.0 lakhs/cumm is at the lower end of the reference range (1.5-4.5 lakhs/cumm).  Again, while not critically low, it warrants monitoring.\n",
            "\n",
            "**Important Note:**  I am an AI and cannot provide medical advice.  These highlighted values indicate the *need* for further medical evaluation and interpretation by a qualified healthcare professional.  The doctor should consider the patient's complete medical history, symptoms, and other relevant test results before making a diagnosis and treatment plan.  The elevated Widal test and ESR are particularly concerning and require attention.\n",
            "\n"
          ]
        }
      ]
    },
    {
      "cell_type": "code",
      "source": [
        "def explain_medical_terms(text):\n",
        "  model = genai.GenerativeModel(\"gemini-1.5-flash\")\n",
        "  prompt=f\"Explain the medical terms in the following health report in simple language:\\n\\n{text}\"\n",
        "  response=model.generate_content(prompt)\n",
        "  return response.text\n",
        "medical_terms=explain_medical_terms(extracted_text)\n",
        "print(\"medical terms\\n\",medical_terms)"
      ],
      "metadata": {
        "colab": {
          "base_uri": "https://localhost:8080/",
          "height": 1000
        },
        "id": "ncG6k5RRpcoJ",
        "outputId": "56f85584-4d77-4dfd-ef80-43ff91e5897f"
      },
      "execution_count": 10,
      "outputs": [
        {
          "output_type": "stream",
          "name": "stdout",
          "text": [
            "medical terms\n",
            " This report shows the results of various blood tests performed on Mr. Kishan Goud. Let's break down the medical terms:\n",
            "\n",
            "**1. WIDAL Test:** This test checks for antibodies against *Salmonella Typhi* and *Salmonella Paratyphi*, bacteria that cause typhoid fever and paratyphoid fever.\n",
            "\n",
            "* **S. Typhi \"O\" 1:160:**  This indicates the presence of antibodies against the \"O\" antigen of *Salmonella Typhi*. The 1:160 is the dilution –  a higher number generally suggests a stronger immune response, potentially indicating past or present infection.  The reference range of 1:20 means results above this are considered positive.\n",
            "* **S. Typhi \"H\" 1:80:** Similar to above, but for the \"H\" antigen of *Salmonella Typhi*. Again, this is higher than the reference range.\n",
            "* **S. Paratyphi \"AH\" 1:20:** Antibodies against the \"AH\" antigen of *Salmonella Paratyphi*.  This result is at the lower limit of the reference range, suggesting minimal or no infection.\n",
            "* **S. Paratyphi \"BH\" 1:20:** Similar to above, but for the \"BH\" antigen of *Salmonella Paratyphi*. This result is within the reference range.\n",
            "\n",
            "**2. Dengue Serology:** This tests for dengue fever.\n",
            "\n",
            "* **Dengue NS1 Antigen:** Negative – This means no dengue virus protein was detected.\n",
            "* **Dengue IgG:** Negative – No antibodies indicating past dengue infection were found.\n",
            "* **Dengue IgM:** Negative – No antibodies indicating a recent dengue infection were found.\n",
            "\n",
            "**3. Erythrocyte Sedimentation Rate (ESR):** This measures how quickly red blood cells settle in a test tube.  A faster rate can indicate inflammation in the body.\n",
            "\n",
            "* **ESR 1st Hour 26 mm/hr:** The red blood cells settled 26 mm in the first hour. This is higher than the reference range (0-8 mm/hr), suggesting possible inflammation.\n",
            "* **ESR 2nd Hour 52 mm/hr:** This continues the trend of elevated ESR.\n",
            "\n",
            "**4. Rapid Malaria Test:** This tests for malaria parasites.\n",
            "\n",
            "* **P.V Negative:** Negative for *Plasmodium vivax* (a type of malaria parasite).\n",
            "* **P.F Negative:** Negative for *Plasmodium falciparum* (another type of malaria parasite).\n",
            "\n",
            "**5. Complete Blood Picture (CBC):** This is a comprehensive blood test.\n",
            "\n",
            "* **Hemoglobin (Hb):** 13.6 gms% (within the normal range of 13-17 gms%). This measures the oxygen-carrying capacity of the blood.\n",
            "* **Red Blood Cells (RBC):** 4.3 mill/cumm (slightly below the normal range of 4.5-5.5 mill/cumm).  These cells carry oxygen.\n",
            "* **White Blood Cells (WBC):** 7,200 cells/cumm (within the normal range of 4000-10000 cells/cumm). These cells fight infection.\n",
            "* **Platelet Count:** 2.0 lakhs/cumm (within the normal range of 1.5-4.5 lakhs/cumm). These cells help with blood clotting.\n",
            "* **Packed Cell Volume (PCV):** 40.5% (within the normal range of 40-50%). This represents the percentage of red blood cells in the blood.\n",
            "* **Differential Count:** This breaks down the types of WBCs.  All values are within normal ranges.\n",
            "* **Peripheral Blood Smear:** A microscopic examination of the blood; the results show normal red blood cells, white blood cells within normal limits, and adequate platelets.\n",
            "\n",
            "**6. HbA1c:** This measures average blood sugar levels over the past 2-3 months.\n",
            "\n",
            "* **HbA1c 5.4%:** This is within the normal range for someone who doesn't have diabetes (4-6%).\n",
            "\n",
            "**7. Serum Creatinine:** This measures kidney function.\n",
            "\n",
            "* **Serum Creatinine 0.8 mg/dl:** This is within the normal range (0.6-1.25 mg/dl).\n",
            "\n",
            "**8. Random Blood Glucose:** This measures blood sugar level at a single point in time.\n",
            "\n",
            "* **Random Blood Glucose:** The result is missing from the provided text.\n",
            "\n",
            "**9. Liver Function Test (LFT):** This assesses liver health. All values are within normal limits.\n",
            "\n",
            "* **Serum Bilirubin (Total, Direct, Indirect):**  Measures bilirubin levels, a byproduct of red blood cell breakdown. All within normal ranges.\n",
            "* **Serum Alkaline Phosphatase:** An enzyme found in the liver and bones.  Within normal limits.\n",
            "* **SGOT (AST) and SGPT (ALT):** Liver enzymes; both within normal ranges.\n",
            "* **Total Protein and Albumin:**  Measures proteins in the blood; both within normal ranges.\n",
            "* **Globulin:** Another blood protein, calculated from the total protein and albumin.\n",
            "* **A/G Ratio:** The ratio of albumin to globulin; within normal limits.\n",
            "\n",
            "**10. Serum Electrolytes:** This measures levels of minerals in the blood.\n",
            "\n",
            "* **Serum Sodium, Potassium, and Chloride:** These are electrolytes crucial for various bodily functions. Sodium is slightly below the lower limit of its reference range, while potassium and chloride are within normal ranges.\n",
            "\n",
            "\n",
            "**In summary:**  Many of Mr. Kishan Goud's test results are within normal limits. However, the elevated ESR and slightly low sodium levels along with marginally elevated Widal test results warrant further investigation by his doctor to determine the cause and if any treatment is needed.  The higher than reference range values in the Widal test could indicate a past infection with *Salmonella Typhi*, but further assessment is needed for a conclusive diagnosis.\n",
            "\n"
          ]
        }
      ]
    },
    {
      "cell_type": "code",
      "source": [
        "def ask_gemini_about_report(text,question):\n",
        "  model = genai.GenerativeModel(\"gemini-1.5-flash\")\n",
        "  prompt = f\"The following is a health report:\\n\\n{text}\\n\\nAnswer the following question based on the report:\\n{question}\"\n",
        "  response = model.generate_content(prompt)\n",
        "  return response.text\n",
        "\n",
        "question = \"What is patient diagnosis?\"\n",
        "answer = ask_gemini_about_report(extracted_text, question)\n",
        "print(\"Answer:\\n\", answer)"
      ],
      "metadata": {
        "colab": {
          "base_uri": "https://localhost:8080/",
          "height": 89
        },
        "id": "GJryPBv8qzpb",
        "outputId": "7305bcf3-1827-42f8-a230-515f9ad5d3d8"
      },
      "execution_count": 11,
      "outputs": [
        {
          "output_type": "stream",
          "name": "stdout",
          "text": [
            "Answer:\n",
            " The provided lab report shows several results outside of the reference ranges, but doesn't offer a diagnosis.  It indicates several possibilities that would need further clinical evaluation by a physician to establish a diagnosis.  The elevated ESR (26 mm/hr in the first hour, 52 mm/hr in the second) suggests inflammation, but the cause is not specified.  The Widal test shows elevated titers for *Salmonella Typhi* O (1:160) and H (1:80), suggesting a possible past or current typhoid infection, but the results are not definitive and could indicate previous exposure.  Other tests are mostly within normal ranges.  A definitive diagnosis requires correlating these lab results with the patient's clinical presentation (symptoms, physical examination) and potentially further investigations.\n",
            "\n"
          ]
        }
      ]
    }
  ]
}