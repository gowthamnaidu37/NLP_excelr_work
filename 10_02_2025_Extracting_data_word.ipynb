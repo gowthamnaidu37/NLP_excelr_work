{
 "cells": [
  {
   "cell_type": "code",
   "execution_count": 2,
   "id": "f275e57c-1cb9-40c6-8975-fae524e499a1",
   "metadata": {},
   "outputs": [
    {
     "name": "stdout",
     "output_type": "stream",
     "text": [
      "Collecting python-docx\n",
      "  Downloading python_docx-1.1.2-py3-none-any.whl.metadata (2.0 kB)\n",
      "Requirement already satisfied: lxml>=3.1.0 in c:\\users\\bknai\\anaconda3\\lib\\site-packages (from python-docx) (5.2.1)\n",
      "Requirement already satisfied: typing-extensions>=4.9.0 in c:\\users\\bknai\\anaconda3\\lib\\site-packages (from python-docx) (4.11.0)\n",
      "Downloading python_docx-1.1.2-py3-none-any.whl (244 kB)\n",
      "Installing collected packages: python-docx\n",
      "Successfully installed python-docx-1.1.2\n"
     ]
    }
   ],
   "source": [
    "!pip install python-docx"
   ]
  },
  {
   "cell_type": "code",
   "execution_count": 4,
   "id": "a3f9fc04-e9dd-4e29-828a-1e2698c57d27",
   "metadata": {},
   "outputs": [],
   "source": [
    "import docx"
   ]
  },
  {
   "cell_type": "code",
   "execution_count": 15,
   "id": "970ded09-a2c8-4d63-9f2d-d931ea60b4f4",
   "metadata": {},
   "outputs": [],
   "source": [
    "doc = open(\"Literature_review_BT1.docx\",\"rb\")\n",
    "document = docx.Document(doc)"
   ]
  },
  {
   "cell_type": "code",
   "execution_count": 17,
   "id": "eb8ae8b9-5527-46bf-8751-5b4ecffc25a9",
   "metadata": {},
   "outputs": [
    {
     "name": "stdout",
     "output_type": "stream",
     "text": [
      "SCHOOL OF ENGINEERINGDEPARTMENT OF AI & ML (IIIrd Year  II Semester)          Application Development- Web Application with Natural Language Processing & IOT Explore (MR22-1CS0264)            Date:  AD Guide                    AD Mentor                           AD Co-coordinator                              HOD                         Dean\n"
     ]
    }
   ],
   "source": [
    "docu =\"\"\n",
    "for para in document.paragraphs:\n",
    "    docu+=para.text\n",
    "print(docu)"
   ]
  },
  {
   "cell_type": "code",
   "execution_count": 19,
   "id": "33aeea35-6ddc-4d6c-bc71-846586a01cf8",
   "metadata": {},
   "outputs": [
    {
     "name": "stdout",
     "output_type": "stream",
     "text": [
      "The content of the paragraph0 is : \n",
      "\n",
      "The content of the paragraph1 is : SCHOOL OF ENGINEERING\n",
      "\n",
      "The content of the paragraph2 is : DEPARTMENT OF AI & ML (IIIrd Year  II Semester)\n",
      "\n",
      "The content of the paragraph3 is :           Application Development- Web Application with Natural Language Processing & IOT Explore (MR22-1CS0264)\n",
      "\n",
      "The content of the paragraph4 is :             Date:\n",
      "\n",
      "The content of the paragraph5 is : \n",
      "\n",
      "The content of the paragraph6 is : \n",
      "\n",
      "The content of the paragraph7 is : \n",
      "\n",
      "The content of the paragraph8 is :   AD Guide                    AD Mentor                           AD Co-coordinator                              HOD                         Dean\n",
      "\n",
      "The content of the paragraph9 is : \n",
      "\n"
     ]
    }
   ],
   "source": [
    "for i in range(len(document.paragraphs)):\n",
    "    print(\"The content of the paragraph\"+str(i)+\" is : \"+document.paragraphs[i].text+\"\\n\")"
   ]
  },
  {
   "cell_type": "code",
   "execution_count": null,
   "id": "be95693e-6440-426a-9e62-18d53637e1db",
   "metadata": {},
   "outputs": [],
   "source": []
  },
  {
   "cell_type": "markdown",
   "id": "4acd083b-c4e6-411d-96cd-ceb75e256b6c",
   "metadata": {},
   "source": [
    "Extracting of the data from html "
   ]
  },
  {
   "cell_type": "code",
   "execution_count": 23,
   "id": "2f044ec6-f203-45ce-b34f-9a467b145971",
   "metadata": {},
   "outputs": [
    {
     "name": "stdout",
     "output_type": "stream",
     "text": [
      "Collecting bs4\n",
      "  Downloading bs4-0.0.2-py2.py3-none-any.whl.metadata (411 bytes)\n",
      "Requirement already satisfied: beautifulsoup4 in c:\\users\\bknai\\anaconda3\\lib\\site-packages (from bs4) (4.12.3)\n",
      "Requirement already satisfied: soupsieve>1.2 in c:\\users\\bknai\\anaconda3\\lib\\site-packages (from beautifulsoup4->bs4) (2.5)\n",
      "Downloading bs4-0.0.2-py2.py3-none-any.whl (1.2 kB)\n",
      "Installing collected packages: bs4\n",
      "Successfully installed bs4-0.0.2\n"
     ]
    }
   ],
   "source": [
    "!pip install bs4 "
   ]
  },
  {
   "cell_type": "code",
   "execution_count": 25,
   "id": "2166e336-4bfb-406e-86fd-21df5f918a68",
   "metadata": {},
   "outputs": [],
   "source": [
    "import urllib.request as urllib2 \n",
    "from bs4 import BeautifulSoup "
   ]
  },
  {
   "cell_type": "code",
   "execution_count": 31,
   "id": "31bcda2d-2a97-4bb2-889b-3f88cd8f62a8",
   "metadata": {},
   "outputs": [],
   "source": [
    "response = urllib2.urlopen('https://en.wikipedia.org/wiki/Natural_language_processing') \n",
    "html_doc = response.read()"
   ]
  },
  {
   "cell_type": "code",
   "execution_count": null,
   "id": "184b2d30-85a1-4288-9dc8-f25452de4707",
   "metadata": {},
   "outputs": [],
   "source": []
  }
 ],
 "metadata": {
  "kernelspec": {
   "display_name": "Python 3 (ipykernel)",
   "language": "python",
   "name": "python3"
  },
  "language_info": {
   "codemirror_mode": {
    "name": "ipython",
    "version": 3
   },
   "file_extension": ".py",
   "mimetype": "text/x-python",
   "name": "python",
   "nbconvert_exporter": "python",
   "pygments_lexer": "ipython3",
   "version": "3.12.7"
  }
 },
 "nbformat": 4,
 "nbformat_minor": 5
}
