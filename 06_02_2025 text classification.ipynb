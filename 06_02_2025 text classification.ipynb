{
 "cells": [
  {
   "cell_type": "code",
   "execution_count": 84,
   "id": "815ea93f-70b7-47fc-90e8-c797174e190a",
   "metadata": {},
   "outputs": [
    {
     "data": {
      "text/html": [
       "<div>\n",
       "<style scoped>\n",
       "    .dataframe tbody tr th:only-of-type {\n",
       "        vertical-align: middle;\n",
       "    }\n",
       "\n",
       "    .dataframe tbody tr th {\n",
       "        vertical-align: top;\n",
       "    }\n",
       "\n",
       "    .dataframe thead th {\n",
       "        text-align: right;\n",
       "    }\n",
       "</style>\n",
       "<table border=\"1\" class=\"dataframe\">\n",
       "  <thead>\n",
       "    <tr style=\"text-align: right;\">\n",
       "      <th></th>\n",
       "      <th>id</th>\n",
       "      <th>label</th>\n",
       "      <th>tweet</th>\n",
       "    </tr>\n",
       "  </thead>\n",
       "  <tbody>\n",
       "    <tr>\n",
       "      <th>0</th>\n",
       "      <td>1</td>\n",
       "      <td>0</td>\n",
       "      <td>@user when a father is dysfunctional and is s...</td>\n",
       "    </tr>\n",
       "    <tr>\n",
       "      <th>1</th>\n",
       "      <td>2</td>\n",
       "      <td>0</td>\n",
       "      <td>@user @user thanks for #lyft credit i can't us...</td>\n",
       "    </tr>\n",
       "    <tr>\n",
       "      <th>2</th>\n",
       "      <td>3</td>\n",
       "      <td>0</td>\n",
       "      <td>bihday your majesty</td>\n",
       "    </tr>\n",
       "    <tr>\n",
       "      <th>3</th>\n",
       "      <td>4</td>\n",
       "      <td>0</td>\n",
       "      <td>#model   i love u take with u all the time in ...</td>\n",
       "    </tr>\n",
       "    <tr>\n",
       "      <th>4</th>\n",
       "      <td>5</td>\n",
       "      <td>0</td>\n",
       "      <td>factsguide: society now    #motivation</td>\n",
       "    </tr>\n",
       "    <tr>\n",
       "      <th>5</th>\n",
       "      <td>6</td>\n",
       "      <td>0</td>\n",
       "      <td>[2/2] huge fan fare and big talking before the...</td>\n",
       "    </tr>\n",
       "    <tr>\n",
       "      <th>6</th>\n",
       "      <td>7</td>\n",
       "      <td>0</td>\n",
       "      <td>@user camping tomorrow @user @user @user @use...</td>\n",
       "    </tr>\n",
       "    <tr>\n",
       "      <th>7</th>\n",
       "      <td>8</td>\n",
       "      <td>0</td>\n",
       "      <td>the next school year is the year for exams.ð...</td>\n",
       "    </tr>\n",
       "    <tr>\n",
       "      <th>8</th>\n",
       "      <td>9</td>\n",
       "      <td>0</td>\n",
       "      <td>we won!!! love the land!!! #allin #cavs #champ...</td>\n",
       "    </tr>\n",
       "    <tr>\n",
       "      <th>9</th>\n",
       "      <td>10</td>\n",
       "      <td>0</td>\n",
       "      <td>@user @user welcome here !  i'm   it's so #gr...</td>\n",
       "    </tr>\n",
       "  </tbody>\n",
       "</table>\n",
       "</div>"
      ],
      "text/plain": [
       "   id  label                                              tweet\n",
       "0   1      0   @user when a father is dysfunctional and is s...\n",
       "1   2      0  @user @user thanks for #lyft credit i can't us...\n",
       "2   3      0                                bihday your majesty\n",
       "3   4      0  #model   i love u take with u all the time in ...\n",
       "4   5      0             factsguide: society now    #motivation\n",
       "5   6      0  [2/2] huge fan fare and big talking before the...\n",
       "6   7      0   @user camping tomorrow @user @user @user @use...\n",
       "7   8      0  the next school year is the year for exams.ð...\n",
       "8   9      0  we won!!! love the land!!! #allin #cavs #champ...\n",
       "9  10      0   @user @user welcome here !  i'm   it's so #gr..."
      ]
     },
     "execution_count": 84,
     "metadata": {},
     "output_type": "execute_result"
    }
   ],
   "source": [
    "import pandas as pd\n",
    "dataset = pd.read_csv('hate_speech.csv')\n",
    "dataset.head(10)"
   ]
  },
  {
   "cell_type": "code",
   "execution_count": 5,
   "id": "12aab28a-9347-4f7e-bc71-25f9ec87e8b9",
   "metadata": {},
   "outputs": [
    {
     "data": {
      "text/plain": [
       "(5242, 3)"
      ]
     },
     "execution_count": 5,
     "metadata": {},
     "output_type": "execute_result"
    }
   ],
   "source": [
    "dataset.shape"
   ]
  },
  {
   "cell_type": "code",
   "execution_count": 7,
   "id": "d49cc287-cf1a-425d-a26b-c2de50b56f0a",
   "metadata": {},
   "outputs": [
    {
     "data": {
      "text/plain": [
       "<bound method IndexOpsMixin.value_counts of 0       0\n",
       "1       0\n",
       "2       0\n",
       "3       0\n",
       "4       0\n",
       "       ..\n",
       "5237    1\n",
       "5238    1\n",
       "5239    1\n",
       "5240    1\n",
       "5241    1\n",
       "Name: label, Length: 5242, dtype: int64>"
      ]
     },
     "execution_count": 7,
     "metadata": {},
     "output_type": "execute_result"
    }
   ],
   "source": [
    "dataset.label.value_counts"
   ]
  },
  {
   "cell_type": "code",
   "execution_count": 9,
   "id": "659818be-f70d-4451-87ac-e80c308d7289",
   "metadata": {},
   "outputs": [
    {
     "name": "stdout",
     "output_type": "stream",
     "text": [
      "1 -  â #ireland consumer price index (mom) climbed from previous 0.2% to 0.5% in may   #blog #silver #gold #forex\n",
      "2 - we are so selfish. #orlando #standwithorlando #pulseshooting #orlandoshooting #biggerproblems #selfish #heabreaking   #values #love #\n",
      "3 - i get to see my daddy today!!   #80days #gettingfed\n",
      "4 - ouch...junior is angryð#got7 #junior #yugyoem   #omg \n",
      "5 - i am thankful for having a paner. #thankful #positive     \n"
     ]
    }
   ],
   "source": [
    "for index, tweet in enumerate(dataset[\"tweet\"][10:15]):\n",
    "    print(index+1,\"-\",tweet)"
   ]
  },
  {
   "cell_type": "code",
   "execution_count": 92,
   "id": "725b95ad-0961-4115-8348-8ccaea64e095",
   "metadata": {},
   "outputs": [],
   "source": [
    "import re \n",
    " \n",
    "def clean_text(text): \n",
    "\n",
    "    text = re.sub(r'[^a-zA-Z\\']', '', text) \n",
    "    \n",
    "    text = re.sub(r'[^\\x00-\\x7F]+', '', text) \n",
    "     \n",
    "    text = text.lower() \n",
    "    return text"
   ]
  },
  {
   "cell_type": "code",
   "execution_count": 94,
   "id": "72e260da-3f78-4c77-861b-73c540a41888",
   "metadata": {},
   "outputs": [],
   "source": [
    "dataset['clean_text'] = dataset.tweet.apply(lambda x:clean_text(x))"
   ]
  },
  {
   "cell_type": "code",
   "execution_count": 96,
   "id": "5589e7ed-2d41-4764-96fc-3c798bb4d155",
   "metadata": {},
   "outputs": [],
   "source": [
    "from nltk.corpus import stopwords \n",
    "\n",
    "len(stopwords.words('english')) \n",
    "stop = stopwords.words('english') \n",
    " \n"
   ]
  },
  {
   "cell_type": "code",
   "execution_count": 98,
   "id": "17c8a2d5-7872-42e5-942d-27e5f4e39e09",
   "metadata": {},
   "outputs": [],
   "source": [
    "def gen_freq(text): \n",
    "    word_list = [] \n",
    "    for tw_words in text.split(): \n",
    "        word_list.extend(tw_words)  \n",
    "        word_freq = pd.Series(word_list).value_counts() \n",
    "        word_freq = word_freq.drop(stop, errors='ignore') \n",
    "        return word_freq"
   ]
  },
  {
   "cell_type": "code",
   "execution_count": 100,
   "id": "d18ef1a9-d667-49ed-9080-db024bbbe103",
   "metadata": {},
   "outputs": [],
   "source": [
    "def any_neg(words): \n",
    "    for word in words: \n",
    "        if word in ['n', 'no', 'non', 'not'] or re.search(r\"\\wn't\", word): \n",
    "            return 1 \n",
    "        else: \n",
    "            return 0"
   ]
  },
  {
   "cell_type": "code",
   "execution_count": 102,
   "id": "7f3cdb05-d27a-47fd-9694-8a4f1e6e3c34",
   "metadata": {},
   "outputs": [],
   "source": [
    "def any_rare(words, rare_100): \n",
    "    for word in words: \n",
    "        if word in rare_100: \n",
    "            return 1 \n",
    "    else: \n",
    "        return 0 \n",
    "#Check whether prompt words are present \n"
   ]
  },
  {
   "cell_type": "code",
   "execution_count": 104,
   "id": "682fb7af-5c85-4f32-a524-6821bee2f51a",
   "metadata": {},
   "outputs": [],
   "source": [
    "def is_question(words): \n",
    "    for word in words: \n",
    "        if word in ['when', 'what', 'how', 'why', 'who', 'where']: \n",
    "            return 1 \n",
    "        else: \n",
    "            return 0"
   ]
  },
  {
   "cell_type": "code",
   "execution_count": 106,
   "id": "6eb58e80-d28b-4973-8b5e-ed183e2329eb",
   "metadata": {},
   "outputs": [],
   "source": [
    "word_freq = gen_freq(dataset.clean_text.str) \n",
    "\n",
    "rare_100 = word_freq[-100:] \n",
    "\n",
    "dataset['word_count'] = dataset.clean_text.str.split().apply(lambda x: len(x)) \n",
    "\n",
    "dataset['any_neg'] = dataset.clean_text.str.split().apply(lambda x: any_neg(x)) \n",
    "\n",
    "dataset['is_question'] = dataset.clean_text.str.split().apply(lambda x: is_question(x)) \n",
    "\n",
    "dataset['any_rare'] = dataset.clean_text.str.split().apply(lambda x: any_rare(x, rare_100)) \n",
    "\n",
    "dataset['char_count'] = dataset.clean_text.apply(lambda x: len(x))"
   ]
  },
  {
   "cell_type": "code",
   "execution_count": 108,
   "id": "4be71264-1fae-4649-bf60-008175c8d5e1",
   "metadata": {},
   "outputs": [],
   "source": [
    "from sklearn.model_selection import train_test_split \n",
    "X = dataset[['word_count', 'any_neg', 'any_rare', 'char_count', 'is_question']] \n",
    "y = dataset.label \n",
    "X_train, X_test, y_train, y_test = train_test_split(X, y, test_size=0.2, random_state=0)"
   ]
  },
  {
   "cell_type": "code",
   "execution_count": 110,
   "id": "ad2a9cd7-9f14-4c4b-a900-dbe39bc3a04c",
   "metadata": {},
   "outputs": [],
   "source": [
    "from sklearn.naive_bayes import GaussianNB \n",
    "\n",
    "model = GaussianNB() \n",
    " \n",
    "model = model.fit(X_train, y_train) \n",
    " \n",
    "pred = model.predict(X_test)"
   ]
  },
  {
   "cell_type": "code",
   "execution_count": 112,
   "id": "0791c654-416a-4b7d-a111-505ba79c0179",
   "metadata": {},
   "outputs": [
    {
     "data": {
      "text/plain": [
       "array([1, 1, 1, 1, 1], dtype=int64)"
      ]
     },
     "execution_count": 112,
     "metadata": {},
     "output_type": "execute_result"
    }
   ],
   "source": [
    "model.predict(X_test[5:10])"
   ]
  },
  {
   "cell_type": "code",
   "execution_count": 142,
   "id": "549603d2-3613-4043-8bd7-f9773135d81b",
   "metadata": {},
   "outputs": [
    {
     "name": "stdout",
     "output_type": "stream",
     "text": [
      "Accuracy 42.89799809342231 %\n"
     ]
    }
   ],
   "source": [
    "from sklearn.metrics import accuracy_score\n",
    "print(\"Accuracy\",accuracy_score(y_test,pred)*100,\"%\")"
   ]
  },
  {
   "cell_type": "code",
   "execution_count": 140,
   "id": "0e4226b7-d8f7-428f-a503-40b9b36948bc",
   "metadata": {},
   "outputs": [],
   "source": [
    "from sklearn.ensemble import RandomForestClassifier\n",
    "\n",
    "clf_rf=RandomForestClassifier()\n",
    "clf_rf.fit(X_train, y_train)\n",
    "\n",
    "rf_pred = clf_rf.predict(X_train).astype(int)"
   ]
  },
  {
   "cell_type": "code",
   "execution_count": 144,
   "id": "5874cefd-e08e-4818-be24-ba36a36d8186",
   "metadata": {},
   "outputs": [
    {
     "name": "stdout",
     "output_type": "stream",
     "text": [
      "y_test shape: (1049,)\n",
      "rf_pred shape: (4193,)\n"
     ]
    }
   ],
   "source": [
    "print(\"y_test shape:\", y_test.shape)\n",
    "print(\"rf_pred shape:\", rf_pred.shape)\n"
   ]
  },
  {
   "cell_type": "code",
   "execution_count": 146,
   "id": "b5e4bc79-e258-44f3-acf1-96f6a77727f8",
   "metadata": {},
   "outputs": [],
   "source": [
    "rf_pred = rf_pred[:len(y_test)]  # Ensure equal length\n"
   ]
  },
  {
   "cell_type": "code",
   "execution_count": 148,
   "id": "8a8103c2-5236-4e27-9003-9c5b913c5837",
   "metadata": {},
   "outputs": [
    {
     "name": "stdout",
     "output_type": "stream",
     "text": [
      "y_test type: <class 'pandas.core.series.Series'>\n",
      "rf_pred type: <class 'numpy.ndarray'>\n"
     ]
    }
   ],
   "source": [
    "print(\"y_test type:\", type(y_test))\n",
    "print(\"rf_pred type:\", type(rf_pred))\n"
   ]
  },
  {
   "cell_type": "code",
   "execution_count": 150,
   "id": "6f13dec3-bdba-41af-bac7-528c944652d8",
   "metadata": {},
   "outputs": [],
   "source": [
    "import numpy as np\n",
    "y_test = np.array(y_test)\n",
    "rf_pred = np.array(rf_pred)\n"
   ]
  },
  {
   "cell_type": "code",
   "execution_count": 178,
   "id": "a5bd499b-95a6-4ca0-bb2a-f72d11571ea1",
   "metadata": {},
   "outputs": [
    {
     "name": "stdout",
     "output_type": "stream",
     "text": [
      "Unique y_test: [0 1]\n",
      "Unique rf_pred: [0 1]\n",
      "[[393 206]\n",
      " [315 135]]\n",
      "              precision    recall  f1-score   support\n",
      "\n",
      "           0       0.56      0.66      0.60       599\n",
      "           1       0.40      0.30      0.34       450\n",
      "\n",
      "    accuracy                           0.50      1049\n",
      "   macro avg       0.48      0.48      0.47      1049\n",
      "weighted avg       0.49      0.50      0.49      1049\n",
      "\n",
      "Accuracy: 0.5033365109628217\n"
     ]
    }
   ],
   "source": [
    "import numpy as np\n",
    "from sklearn.metrics import classification_report, confusion_matrix, accuracy_score \n",
    "\n",
    "\n",
    "y_test = np.array(y_test)\n",
    "rf_pred = np.array(rf_pred)\n",
    "\n",
    "\n",
    "if y_test.shape != rf_pred.shape:\n",
    "    print(\"Shape mismatch:\", y_test.shape, rf_pred.shape)\n",
    "    rf_pred = rf_pred[:len(y_test)]\n",
    "\n",
    "\n",
    "if len(y_test.shape) > 1 and y_test.shape[1] > 1:\n",
    "    y_test = np.argmax(y_test, axis=1)  \n",
    "if len(rf_pred.shape) > 1 and rf_pred.shape[1] > 1:\n",
    "    rf_pred = np.argmax(rf_pred, axis=1)\n",
    "\n",
    "\n",
    "print(\"Unique y_test:\", np.unique(y_test))\n",
    "print(\"Unique rf_pred:\", np.unique(rf_pred))\n",
    "\n",
    "\n",
    "print(confusion_matrix(y_test, rf_pred)) \n",
    "print(classification_report(y_test, rf_pred)) \n",
    "print(\"Accuracy:\", accuracy_score(y_test, rf_pred))\n"
   ]
  },
  {
   "cell_type": "code",
   "execution_count": 180,
   "id": "8fc65edc-e6ca-4feb-ab35-3a29374949b7",
   "metadata": {},
   "outputs": [],
   "source": [
    "\n",
    "from sklearn.linear_model import LogisticRegression \n",
    "logreg = LogisticRegression (class_weight='balanced') \n",
    "logreg.fit(X_train, y_train) \n",
    "y_pred = logreg.predict(X_test) #predicting the values \n",
    "\n"
   ]
  },
  {
   "cell_type": "code",
   "execution_count": 182,
   "id": "9944632a-c209-4997-8857-6ef4e332618b",
   "metadata": {},
   "outputs": [
    {
     "name": "stdout",
     "output_type": "stream",
     "text": [
      "              precision    recall  f1-score   support\n",
      "\n",
      "           0       0.64      0.58      0.61       599\n",
      "           1       0.50      0.57      0.54       450\n",
      "\n",
      "    accuracy                           0.58      1049\n",
      "   macro avg       0.57      0.58      0.57      1049\n",
      "weighted avg       0.58      0.58      0.58      1049\n",
      "\n"
     ]
    }
   ],
   "source": [
    "from sklearn.metrics import classification_report\n",
    "print(classification_report(y_test, y_pred))\n",
    "\n",
    "from nltk.stem.porter import PorterStemmer\n",
    "porter = PorterStemmer()\n"
   ]
  },
  {
   "cell_type": "code",
   "execution_count": 184,
   "id": "441629b4-4523-4fdc-bcaf-5d73e591a6b7",
   "metadata": {},
   "outputs": [],
   "source": [
    "def tokenizer_porter(text): \n",
    "    return [porter.stem(word) for word in text.split()]"
   ]
  },
  {
   "cell_type": "code",
   "execution_count": null,
   "id": "0a2fed42-1756-469a-bb21-e1491f131476",
   "metadata": {},
   "outputs": [],
   "source": []
  }
 ],
 "metadata": {
  "kernelspec": {
   "display_name": "Python 3 (ipykernel)",
   "language": "python",
   "name": "python3"
  },
  "language_info": {
   "codemirror_mode": {
    "name": "ipython",
    "version": 3
   },
   "file_extension": ".py",
   "mimetype": "text/x-python",
   "name": "python",
   "nbconvert_exporter": "python",
   "pygments_lexer": "ipython3",
   "version": "3.12.7"
  }
 },
 "nbformat": 4,
 "nbformat_minor": 5
}
