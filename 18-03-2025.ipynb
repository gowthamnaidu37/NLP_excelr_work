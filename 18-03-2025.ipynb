{
 "cells": [
  {
   "cell_type": "markdown",
   "id": "20f10e2b-78c3-4a93-8cea-f7fe3d97ad2b",
   "metadata": {},
   "source": [
    " # explained about the aws and the keywords like IAM.\n",
    "# explained about how to create the users in IAM"
   ]
  }
 ],
 "metadata": {
  "kernelspec": {
   "display_name": "Python 3 (ipykernel)",
   "language": "python",
   "name": "python3"
  },
  "language_info": {
   "codemirror_mode": {
    "name": "ipython",
    "version": 3
   },
   "file_extension": ".py",
   "mimetype": "text/x-python",
   "name": "python",
   "nbconvert_exporter": "python",
   "pygments_lexer": "ipython3",
   "version": "3.12.7"
  }
 },
 "nbformat": 4,
 "nbformat_minor": 5
}
