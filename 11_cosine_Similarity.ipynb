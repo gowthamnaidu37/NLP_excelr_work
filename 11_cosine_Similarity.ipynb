{
 "cells": [
  {
   "cell_type": "code",
   "execution_count": 1,
   "id": "37ad6705-ebd2-4dbd-8516-421b09d27d2f",
   "metadata": {},
   "outputs": [],
   "source": [
    "doc_trump=\"Mr. Trump became president after winning the political election. Though he lost the support of some rebuplician friends Trump is friends with President Putin\"\n",
    "doc_election = \"President trump says Putin had no political inteference is the election outcome. He says it was a witchhunt by politcal parties. He claimed President Putin is a friend who had nothing to do with the election\"\n",
    "doc_putin = \"post elections, vladimir putin became President of Russia. president putin had served as the prime Minister earlier in his political career\"\n",
    "\n",
    "documents =[doc_trump,doc_election,doc_putin]"
   ]
  },
  {
   "cell_type": "code",
   "execution_count": 5,
   "id": "bfd05c7e-c4c4-4c63-9f88-e83b5e4e0008",
   "metadata": {},
   "outputs": [
    {
     "data": {
      "text/plain": [
       "['Mr. Trump became president after winning the political election. Though he lost the support of some rebuplician friends Trump is friends with President Putin',\n",
       " 'President trump says Putin had no political inteference is the election outcome. He says it was a witchhunt by politcal parties. He claimed President Putin is a friend who had nothing to do with the election',\n",
       " 'post elections, vladimir putin became President of Russia. president putin had served as the prime Minister earlier in his political career']"
      ]
     },
     "execution_count": 5,
     "metadata": {},
     "output_type": "execute_result"
    }
   ],
   "source": [
    "documents"
   ]
  },
  {
   "cell_type": "code",
   "execution_count": 11,
   "id": "48dee8a3-942b-443f-93a3-46203ed3b3f3",
   "metadata": {},
   "outputs": [
    {
     "data": {
      "text/html": [
       "<div>\n",
       "<style scoped>\n",
       "    .dataframe tbody tr th:only-of-type {\n",
       "        vertical-align: middle;\n",
       "    }\n",
       "\n",
       "    .dataframe tbody tr th {\n",
       "        vertical-align: top;\n",
       "    }\n",
       "\n",
       "    .dataframe thead th {\n",
       "        text-align: right;\n",
       "    }\n",
       "</style>\n",
       "<table border=\"1\" class=\"dataframe\">\n",
       "  <thead>\n",
       "    <tr style=\"text-align: right;\">\n",
       "      <th></th>\n",
       "      <th>career</th>\n",
       "      <th>claimed</th>\n",
       "      <th>earlier</th>\n",
       "      <th>election</th>\n",
       "      <th>elections</th>\n",
       "      <th>friend</th>\n",
       "      <th>friends</th>\n",
       "      <th>inteference</th>\n",
       "      <th>lost</th>\n",
       "      <th>minister</th>\n",
       "      <th>...</th>\n",
       "      <th>putin</th>\n",
       "      <th>rebuplician</th>\n",
       "      <th>russia</th>\n",
       "      <th>says</th>\n",
       "      <th>served</th>\n",
       "      <th>support</th>\n",
       "      <th>trump</th>\n",
       "      <th>vladimir</th>\n",
       "      <th>winning</th>\n",
       "      <th>witchhunt</th>\n",
       "    </tr>\n",
       "  </thead>\n",
       "  <tbody>\n",
       "    <tr>\n",
       "      <th>doc_trump</th>\n",
       "      <td>0</td>\n",
       "      <td>0</td>\n",
       "      <td>0</td>\n",
       "      <td>1</td>\n",
       "      <td>0</td>\n",
       "      <td>0</td>\n",
       "      <td>2</td>\n",
       "      <td>0</td>\n",
       "      <td>1</td>\n",
       "      <td>0</td>\n",
       "      <td>...</td>\n",
       "      <td>1</td>\n",
       "      <td>1</td>\n",
       "      <td>0</td>\n",
       "      <td>0</td>\n",
       "      <td>0</td>\n",
       "      <td>1</td>\n",
       "      <td>2</td>\n",
       "      <td>0</td>\n",
       "      <td>1</td>\n",
       "      <td>0</td>\n",
       "    </tr>\n",
       "    <tr>\n",
       "      <th>doc_election</th>\n",
       "      <td>0</td>\n",
       "      <td>1</td>\n",
       "      <td>0</td>\n",
       "      <td>2</td>\n",
       "      <td>0</td>\n",
       "      <td>1</td>\n",
       "      <td>0</td>\n",
       "      <td>1</td>\n",
       "      <td>0</td>\n",
       "      <td>0</td>\n",
       "      <td>...</td>\n",
       "      <td>2</td>\n",
       "      <td>0</td>\n",
       "      <td>0</td>\n",
       "      <td>2</td>\n",
       "      <td>0</td>\n",
       "      <td>0</td>\n",
       "      <td>1</td>\n",
       "      <td>0</td>\n",
       "      <td>0</td>\n",
       "      <td>1</td>\n",
       "    </tr>\n",
       "    <tr>\n",
       "      <th>doc_putin</th>\n",
       "      <td>1</td>\n",
       "      <td>0</td>\n",
       "      <td>1</td>\n",
       "      <td>0</td>\n",
       "      <td>1</td>\n",
       "      <td>0</td>\n",
       "      <td>0</td>\n",
       "      <td>0</td>\n",
       "      <td>0</td>\n",
       "      <td>1</td>\n",
       "      <td>...</td>\n",
       "      <td>2</td>\n",
       "      <td>0</td>\n",
       "      <td>1</td>\n",
       "      <td>0</td>\n",
       "      <td>1</td>\n",
       "      <td>0</td>\n",
       "      <td>0</td>\n",
       "      <td>1</td>\n",
       "      <td>0</td>\n",
       "      <td>0</td>\n",
       "    </tr>\n",
       "  </tbody>\n",
       "</table>\n",
       "<p>3 rows × 28 columns</p>\n",
       "</div>"
      ],
      "text/plain": [
       "              career  claimed  earlier  election  elections  friend  friends  \\\n",
       "doc_trump          0        0        0         1          0       0        2   \n",
       "doc_election       0        1        0         2          0       1        0   \n",
       "doc_putin          1        0        1         0          1       0        0   \n",
       "\n",
       "              inteference  lost  minister  ...  putin  rebuplician  russia  \\\n",
       "doc_trump               0     1         0  ...      1            1       0   \n",
       "doc_election            1     0         0  ...      2            0       0   \n",
       "doc_putin               0     0         1  ...      2            0       1   \n",
       "\n",
       "              says  served  support  trump  vladimir  winning  witchhunt  \n",
       "doc_trump        0       0        1      2         0        1          0  \n",
       "doc_election     2       0        0      1         0        0          1  \n",
       "doc_putin        0       1        0      0         1        0          0  \n",
       "\n",
       "[3 rows x 28 columns]"
      ]
     },
     "execution_count": 11,
     "metadata": {},
     "output_type": "execute_result"
    }
   ],
   "source": [
    "from sklearn.feature_extraction.text import CountVectorizer\n",
    "import pandas as pd\n",
    "\n",
    "count_vect = CountVectorizer(stop_words = 'english')\n",
    "sparse_matrix = count_vect.fit_transform(documents)\n",
    "\n",
    "doc_term_matrix = sparse_matrix.todense()\n",
    "df = pd.DataFrame(doc_term_matrix,\n",
    "                 columns = count_vect.get_feature_names_out(),\n",
    "                 index = ['doc_trump','doc_election','doc_putin'])\n",
    "\n",
    "df"
   ]
  },
  {
   "cell_type": "code",
   "execution_count": 15,
   "id": "dbb610ba-68f4-4890-a435-d968ff2ae8aa",
   "metadata": {},
   "outputs": [
    {
     "name": "stdout",
     "output_type": "stream",
     "text": [
      "[[1.         0.49193496 0.36893239]\n",
      " [0.49193496 1.         0.42426407]\n",
      " [0.36893239 0.42426407 1.        ]]\n"
     ]
    },
    {
     "data": {
      "image/png": "[encoded data removed]",
      "text/plain": [
       "<Figure size 640x480 with 1 Axes>"
      ]
     },
     "metadata": {},
     "output_type": "display_data"
    },
    {
     "name": "stdout",
     "output_type": "stream",
     "text": [
      "Cosine Similarity between A and B:0.7241379310344827\n",
      "Cosine Distance between A and B:0.27586206896551735\n"
     ]
    }
   ],
   "source": [
    "from sklearn.metrics.pairwise import cosine_similarity \n",
    "print(cosine_similarity(df, df)) \n",
    "import numpy as np \n",
    "import matplotlib.pyplot as plt \n",
    "\n",
    "A = np.array([7,3]) \n",
    "B = np.array([3,7]) \n",
    "ax = plt.axes() \n",
    "ax.arrow(0.0, 0.0, A[0], A[1], head_width=0.4, head_length=0.5) \n",
    "plt.annotate(f\"A({A[0]},{A[1]})\", xy=(A[0], A[1]),xytext=(A[0]+0.5, A[1])) \n",
    "ax.arrow(0.0, 0.0, B[0], B[1], head_width=0.4, head_length=0.5) \n",
    "plt.annotate(f\"B({B[0]},{B[1]})\", xy=(B[0], B[1]),xytext=(B[0]+0.5, B[1])) \n",
    "plt.annotate(f\"B({B[0]},{B[1]})\", xy=(B[0], B[1]), xytext=(B[0]+0.5, B[1])) \n",
    "plt.xlim(0,10) \n",
    "plt.ylim(0,10) \n",
    "plt.show() \n",
    "plt.close() \n",
    "# cosine similarity between A and B \n",
    "cos_sim = np.dot(A,B)/(np.linalg.norm(A)*np.linalg.norm(B)) \n",
    "print (f\"Cosine Similarity between A and B:{cos_sim}\") \n",
    "print (f\"Cosine Distance between A and B:{1-cos_sim}\")"
   ]
  },
  {
   "cell_type": "code",
   "execution_count": 21,
   "id": "e38c1192-18d0-4d27-84a6-6441b7c54c20",
   "metadata": {},
   "outputs": [
    {
     "name": "stdout",
     "output_type": "stream",
     "text": [
      "AnB =  {1, 2}\n",
      "AUB =  {1, 2, 3, 4, 5, 6, 8, 9}\n",
      "J(A,B) =  0.25\n"
     ]
    }
   ],
   "source": [
    "A = {1,2,3,4,6} \n",
    "B = {1,2,5,8,9} \n",
    "C = A.intersection(B) \n",
    "D = A.union(B) \n",
    "print('AnB = ', C) \n",
    "print('AUB = ', D) \n",
    "print('J(A,B) = ', float(len(C))/float(len(D)))"
   ]
  },
  {
   "cell_type": "code",
   "execution_count": 25,
   "id": "3a5bbfe7-5d8b-4267-a34c-3387d2c224c5",
   "metadata": {},
   "outputs": [
    {
     "name": "stdout",
     "output_type": "stream",
     "text": [
      "Jaccard Similarity: 0.375\n"
     ]
    }
   ],
   "source": [
    "def jaccard_similarity(set1, set2): \n",
    "    intersection = len(set1.intersection(set2)) \n",
    "    union = len(set1.union(set2)) \n",
    "    return intersection / union \n",
    "set_a = {\"Language\", \"for\", \"Computer\", \"NLP\", \"Science\"} \n",
    "set_b = {\"NLP\", \"for\", \"Language\", \"Data\", 'ML', \"AI\"} \n",
    "similarity = jaccard_similarity(set_a, set_b) \n",
    "print(\"Jaccard Similarity:\", similarity)"
   ]
  },
  {
   "cell_type": "code",
   "execution_count": null,
   "id": "8c9749ec-ebfa-4ed3-bbca-d96276b45185",
   "metadata": {},
   "outputs": [],
   "source": []
  }
 ],
 "metadata": {
  "kernelspec": {
   "display_name": "Python 3 (ipykernel)",
   "language": "python",
   "name": "python3"
  },
  "language_info": {
   "codemirror_mode": {
    "name": "ipython",
    "version": 3
   },
   "file_extension": ".py",
   "mimetype": "text/x-python",
   "name": "python",
   "nbconvert_exporter": "python",
   "pygments_lexer": "ipython3",
   "version": "3.12.7"
  }
 },
 "nbformat": 4,
 "nbformat_minor": 5
}
